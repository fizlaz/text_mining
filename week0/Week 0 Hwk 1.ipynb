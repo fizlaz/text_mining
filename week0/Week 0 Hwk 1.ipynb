{
 "cells": [
  {
   "cell_type": "code",
   "execution_count": 3,
   "metadata": {
    "collapsed": false
   },
   "outputs": [],
   "source": [
    "# Taking Rish's section of necessary modules to import\n",
    "# for establishing a connection between python and the targeted website\n",
    "import urllib\n",
    "\n",
    "# for retreiving information from websites \n",
    "from bs4 import BeautifulSoup\n",
    "\n",
    "#convert xml as string to an ordered dictionary \n",
    "import xmltodict\n",
    "\n",
    "# to read arguments from command line\n",
    "import os \n",
    "\n",
    "#To use numpy arrays which are more efficient than regular data structures\n",
    "import numpy as np\n",
    "\n",
    "#To read the folder structure of the target\n",
    "import sys\n",
    "\n",
    "#to add randomised waiting time\n",
    "import time, random\n",
    "\n",
    "# to deal with regular expressions\n",
    "import re"
   ]
  },
  {
   "cell_type": "code",
   "execution_count": 4,
   "metadata": {
    "collapsed": false
   },
   "outputs": [],
   "source": [
    "url = \"http://www.bbc.com/news\"\n",
    "html = urllib.urlopen(url).read()\n",
    "soup = BeautifulSoup(html)"
   ]
  },
  {
   "cell_type": "markdown",
   "metadata": {},
   "source": [
    "The headlines are all stored as divs; that's a pretty high-level separator, is there any way of making that a bit more precise? Still, collect all the divs here."
   ]
  },
  {
   "cell_type": "code",
   "execution_count": 5,
   "metadata": {
    "collapsed": false
   },
   "outputs": [],
   "source": [
    "div_list = soup.find_all(name = \"div\")"
   ]
  },
  {
   "cell_type": "markdown",
   "metadata": {},
   "source": [
    "In this section, we collect all of the top stories."
   ]
  },
  {
   "cell_type": "code",
   "execution_count": 6,
   "metadata": {
    "collapsed": false
   },
   "outputs": [],
   "source": [
    "## Create a regular expression for Python to search for\n",
    "top_stories = re.compile(\"container-top-stories#[0-9]\")\n",
    "#top_stories = re.compile(\"container-top-stories#1\")\n",
    "\n",
    "headline_dict = {}\n",
    "for div in div_list:\n",
    "    try:\n",
    "        if top_stories.search(div['data-entityid']) != None:\n",
    "            headline_dict[div['data-entityid'] ] = div \n",
    "    except:\n",
    "        None"
   ]
  },
  {
   "cell_type": "code",
   "execution_count": 7,
   "metadata": {
    "collapsed": false
   },
   "outputs": [
    {
     "data": {
      "text/plain": [
       "{'container-top-stories#1': <div class=\"buzzard-item\" data-entityid=\"container-top-stories#1\">\n",
       " <a class=\"title-link\" href=\"/news/world-asia-36079445\">\n",
       " <h3 class=\"title-link__title\">\n",
       " <span class=\"title-link__title-text\">Kabul hit by large suicide attack</span>\n",
       " </h3>\n",
       " </a> <div class=\"buzzard__image\">\n",
       " <div class=\"responsive-image responsive-image--16by9\">\n",
       " <img alt=\"An unidentified relative of one of the victims of a suicide bomb blast in central Kabul on Tuesday 19 April 2016 reacts\" class=\"js-image-replace\" height=\"1152\" src=\"http://ichef.bbci.co.uk/news/200/cpsprodpb/2C4C/production/_89304311_89304310.jpg\" width=\"2048\"/>\n",
       " </div>\n",
       " </div>\n",
       " <div class=\"buzzard__body\">\n",
       " <p class=\"buzzard__summary\">At least 28 people have been killed and more than 300 injured in a large suicide attack in the Afghan capital Kabul, say officials.</p>\n",
       " <div class=\"buzzard__info-list\">\n",
       " <ul class=\"mini-info-list\">\n",
       " <li class=\"mini-info-list__item\"><div class=\"date date--v2\" data-datetime=\"19 April 2016\" data-seconds=\"1461080546\">19 April 2016</div></li>\n",
       " <li class=\"mini-info-list__item\"><span class=\"mini-info-list__section-desc off-screen\">From the section </span><a class=\"mini-info-list__section\" data-entityid=\"section-label\" href=\"/news/world/asia\">Asia</a></li>\n",
       " </ul>\n",
       " </div>\n",
       " </div>\n",
       " <div class=\"buzzard__links-list\">\n",
       " <h4 class=\"off-screen\">Related content</h4>\n",
       " <ul class=\"links-list__list\">\n",
       " <li class=\"links-list__item\"><a class=\"links-list__link\" href=\"/news/world-asia-35169478\"> Why are the Taliban resurgent in Afghanistan?</a></li><li class=\"links-list__item\"><a class=\"links-list__link\" href=\"/news/world-south-asia-12011352\"> Afghanistan country profile</a></li>\n",
       " </ul>\n",
       " </div>\n",
       " <a aria-hidden=\"true\" class=\"faux-block-link__overlay-link\" href=\"/news/world-asia-36079445\" tabindex=\"-1\">Full article Kabul hit by large suicide attack</a>\n",
       " </div>,\n",
       " 'container-top-stories#10': <div class=\"macaw-item faux-block-link\" data-entityid=\"container-top-stories#10\">\n",
       " <div class=\"macaw-item__body\">\n",
       " <a class=\"title-link\" href=\"/news/world-europe-36083347\">\n",
       " <h3 class=\"title-link__title\">\n",
       " <span class=\"title-link__title-text\">Handshake family naturalisation halted</span>\n",
       " </h3>\n",
       " </a> <ul class=\"mini-info-list\">\n",
       " <li class=\"mini-info-list__item\"><div class=\"date date--v2\" data-datetime=\"19 April 2016\" data-seconds=\"1461082835\">19 April 2016</div></li>\n",
       " <li class=\"mini-info-list__item\"><span class=\"mini-info-list__section-desc off-screen\">From the section </span><a class=\"mini-info-list__section\" data-entityid=\"section-label\" href=\"/news/world/europe\">Europe</a></li>\n",
       " </ul>\n",
       " </div>\n",
       " <a aria-hidden=\"true\" class=\"faux-block-link__overlay-link\" href=\"/news/world-europe-36083347\" tabindex=\"-1\">Full article Handshake family naturalisation halted</a>\n",
       " </div>,\n",
       " 'container-top-stories#11': <div class=\"macaw-item faux-block-link\" data-entityid=\"container-top-stories#11\">\n",
       " <div class=\"macaw-item__body\">\n",
       " <a class=\"title-link\" href=\"/news/uk-36083916\">\n",
       " <h3 class=\"title-link__title\">\n",
       " <span class=\"title-link__title-text\">London to ban drones during Obama visit</span>\n",
       " </h3>\n",
       " </a> <ul class=\"mini-info-list\">\n",
       " <li class=\"mini-info-list__item\"><div class=\"date date--v2\" data-datetime=\"19 April 2016\" data-seconds=\"1461077765\">19 April 2016</div></li>\n",
       " <li class=\"mini-info-list__item\"><span class=\"mini-info-list__section-desc off-screen\">From the section </span><a class=\"mini-info-list__section\" data-entityid=\"section-label\" href=\"/news/uk\">UK</a></li>\n",
       " </ul>\n",
       " </div>\n",
       " <a aria-hidden=\"true\" class=\"faux-block-link__overlay-link\" href=\"/news/uk-36083916\" tabindex=\"-1\">Full article London to ban drones during Obama visit</a>\n",
       " </div>,\n",
       " 'container-top-stories#12': <div class=\"macaw-item faux-block-link\" data-entityid=\"container-top-stories#12\">\n",
       " <div class=\"macaw-item__body\">\n",
       " <a class=\"title-link\" href=\"/news/world-europe-36085929\">\n",
       " <h3 class=\"title-link__title\">\n",
       " <span class=\"title-link__title-text\">Champion Swiss snowboarder killed at 21</span>\n",
       " </h3>\n",
       " </a> <ul class=\"mini-info-list\">\n",
       " <li class=\"mini-info-list__item\"><div class=\"date date--v2\" data-datetime=\"19 April 2016\" data-seconds=\"1461080283\">19 April 2016</div></li>\n",
       " <li class=\"mini-info-list__item\"><span class=\"mini-info-list__section-desc off-screen\">From the section </span><a class=\"mini-info-list__section\" data-entityid=\"section-label\" href=\"/news/world/europe\">Europe</a></li>\n",
       " </ul>\n",
       " </div>\n",
       " <a aria-hidden=\"true\" class=\"faux-block-link__overlay-link\" href=\"/news/world-europe-36085929\" tabindex=\"-1\">Full article Champion Swiss snowboarder killed at 21</a>\n",
       " </div>,\n",
       " 'container-top-stories#2': <div class=\"pigeon__column pigeon__column--a\" data-entityid=\"container-top-stories#2\">\n",
       " <div class=\"pigeon-item faux-block-link\">\n",
       " <div class=\"pigeon-item__image\">\n",
       " <div class=\"responsive-image responsive-image--16by9\">\n",
       " <div class=\"js-delayed-image-load\" data-alt=\"US presidential hopefuls Hillary Clinton and Donald Trump\" data-height=\"549\" data-src=\"http://ichef-1.bbci.co.uk/news/200/cpsprodpb/BB30/production/_89302974_uselection.jpg\" data-width=\"976\"></div>\n",
       " <!--[if lt IE 9]>\n",
       "                             <img src=\"http://ichef-1.bbci.co.uk/news/200/cpsprodpb/BB30/production/_89302974_uselection.jpg\" class=\"js-image-replace\" alt=\"US presidential hopefuls Hillary Clinton and Donald Trump\" width=\"976\" height=\"549\" />\n",
       "                             <![endif]-->\n",
       " </div>\n",
       " </div>\n",
       " <div class=\"pigeon-item__body\">\n",
       " <a class=\"title-link\" href=\"/news/election-us-2016-36079804\">\n",
       " <h3 class=\"title-link__title\">\n",
       " <span class=\"title-link__title-text\">New York vote key for Clinton and Trump</span>\n",
       " </h3>\n",
       " </a> <p class=\"pigeon-item__summary\">New York is holding presidential primaries seen as crucial for both Republican and Democratic front-runners after their recent defeats.</p>\n",
       " <div class=\"pigeon-item__info-list\">\n",
       " <ul class=\"mini-info-list\">\n",
       " <li class=\"mini-info-list__item\"><div class=\"date date--v2\" data-datetime=\"19 April 2016\" data-seconds=\"1461079548\">19 April 2016</div></li>\n",
       " <li class=\"mini-info-list__item\"><span class=\"mini-info-list__section-desc off-screen\">From the section </span><a class=\"mini-info-list__section\" data-entityid=\"section-label\" href=\"/news/election/us2016\">US Election 2016</a></li>\n",
       " </ul>\n",
       " </div>\n",
       " </div>\n",
       " <div class=\"pigeon-item__links-list\">\n",
       " <h4 class=\"off-screen\">Related content</h4>\n",
       " <ul class=\"links-list__list\">\n",
       " <li class=\"links-list__item\"><a class=\"links-list__link\" href=\"/news/election-us-2016-36060263\"> How you doin'? New York's state of mind</a></li><li class=\"links-list__item\"><a class=\"links-list__link\" href=\"/news/election-us-2016-36060264\"> Has New York shaped the Trump campaign?</a></li>\n",
       " </ul>\n",
       " </div>\n",
       " <a aria-hidden=\"true\" class=\"faux-block-link__overlay-link\" href=\"/news/election-us-2016-36079804\" tabindex=\"-1\">Full article   New York vote key for Clinton and Trump</a>\n",
       " </div>\n",
       " </div>,\n",
       " 'container-top-stories#3': <div class=\"pigeon__column pigeon__column--a\" data-entityid=\"container-top-stories#3\">\n",
       " <div class=\"pigeon-item faux-block-link\">\n",
       " <div class=\"pigeon-item__image\">\n",
       " <div class=\"responsive-image responsive-image--16by9\">\n",
       " <div class=\"js-delayed-image-load\" data-alt=\"Screengrab of video showing protest in Rehab on 19 April 2016\" data-height=\"945\" data-src=\"http://ichef.bbci.co.uk/news/200/cpsprodpb/5295/production/_89314112_89314111.jpg\" data-width=\"1680\"></div>\n",
       " <!--[if lt IE 9]>\n",
       "                             <img src=\"http://ichef.bbci.co.uk/news/200/cpsprodpb/5295/production/_89314112_89314111.jpg\" class=\"js-image-replace\" alt=\"Screengrab of video showing protest in Rehab on 19 April 2016\" width=\"1680\" height=\"945\" />\n",
       "                             <![endif]-->\n",
       " </div>\n",
       " </div>\n",
       " <div class=\"pigeon-item__body\">\n",
       " <a class=\"title-link\" href=\"/news/world-middle-east-36084846\">\n",
       " <h3 class=\"title-link__title\">\n",
       " <span class=\"title-link__title-text\">Egypt tea vendor 'shot by police'</span>\n",
       " </h3>\n",
       " </a> <p class=\"pigeon-item__summary\">Hundreds of Egyptians protest in the capital, Cairo, after a policeman allegedly shoots dead a street vendor after an argument over the price of a cup of tea.</p>\n",
       " <div class=\"pigeon-item__info-list\">\n",
       " <ul class=\"mini-info-list\">\n",
       " <li class=\"mini-info-list__item\"><div class=\"date date--v2\" data-datetime=\"19 April 2016\" data-seconds=\"1461080162\">19 April 2016</div></li>\n",
       " <li class=\"mini-info-list__item\"><span class=\"mini-info-list__section-desc off-screen\">From the section </span><a class=\"mini-info-list__section\" data-entityid=\"section-label\" href=\"/news/world/middle_east\">Middle East</a></li>\n",
       " </ul>\n",
       " </div>\n",
       " </div>\n",
       " <div class=\"pigeon-item__links-list\">\n",
       " <h4 class=\"off-screen\">Related content</h4>\n",
       " <ul class=\"links-list__list\">\n",
       " <li class=\"links-list__item\"><a class=\"links-list__link\" href=\"/news/world-middle-east-35616267\"> Egypt moves to rein in police</a></li><li class=\"links-list__item\"><a class=\"links-list__link\" href=\"/news/world-middle-east-35951318\"> Life for killer Egyptian policeman</a></li>\n",
       " </ul>\n",
       " </div>\n",
       " <a aria-hidden=\"true\" class=\"faux-block-link__overlay-link\" href=\"/news/world-middle-east-36084846\" tabindex=\"-1\">Full article   Egypt tea vendor 'shot by police'</a>\n",
       " </div>\n",
       " </div>,\n",
       " 'container-top-stories#4': <div class=\"pigeon-item faux-block-link\" data-entityid=\"container-top-stories#4\">\n",
       " <a class=\"title-link\" href=\"/news/world-middle-east-36080075\">\n",
       " <h3 class=\"title-link__title\">\n",
       " <span class=\"title-link__title-text\">Israeli guilty of murdering Palestinian</span>\n",
       " </h3>\n",
       " </a>\n",
       " <div class=\"pigeon-item__info-list\">\n",
       " <ul class=\"mini-info-list\">\n",
       " <li class=\"mini-info-list__item\"><div class=\"date date--v2\" data-datetime=\"19 April 2016\" data-seconds=\"1461052883\">19 April 2016</div></li>\n",
       " <li class=\"mini-info-list__item\"><span class=\"mini-info-list__section-desc off-screen\">From the section </span><a class=\"mini-info-list__section\" data-entityid=\"section-label\" href=\"/news/world/middle_east\">Middle East</a></li>\n",
       " </ul>\n",
       " </div>\n",
       " <a aria-hidden=\"true\" class=\"faux-block-link__overlay-link\" href=\"/news/world-middle-east-36080075\" tabindex=\"-1\">Full article Israeli guilty of murdering Palestinian</a>\n",
       " </div>,\n",
       " 'container-top-stories#5': <div class=\"pigeon-item faux-block-link\" data-entityid=\"container-top-stories#5\">\n",
       " <a class=\"title-link\" href=\"/sport/formula1/36086363\">\n",
       " <h3 class=\"title-link__title\">\n",
       " <span class=\"badge-text-only badge-text-only--sport\">Sport</span>\n",
       " <span class=\"title-link__title-text\">'F1 wouldn't take women seriously'</span>\n",
       " </h3>\n",
       " </a>\n",
       " <div class=\"pigeon-item__info-list\">\n",
       " <ul class=\"mini-info-list\">\n",
       " <li class=\"mini-info-list__item\"><div class=\"date date--v2\" data-datetime=\"19 April 2016\" data-seconds=\"1461086279\">19 April 2016</div></li>\n",
       " <li class=\"mini-info-list__item\"><span class=\"mini-info-list__section-desc off-screen\">From the section </span><a class=\"mini-info-list__section\" data-entityid=\"section-label\" href=\"/sport/formula1\">Formula 1</a></li>\n",
       " </ul>\n",
       " </div>\n",
       " <a aria-hidden=\"true\" class=\"faux-block-link__overlay-link\" href=\"/sport/formula1/36086363\" tabindex=\"-1\">Full article 'F1 wouldn't take women seriously'</a>\n",
       " </div>,\n",
       " 'container-top-stories#6': <div class=\"pigeon-item faux-block-link\" data-entityid=\"container-top-stories#6\">\n",
       " <a class=\"title-link\" href=\"/news/world-europe-36083936\">\n",
       " <h3 class=\"title-link__title\">\n",
       " <span class=\"title-link__title-text\">Putin 'agreed formula' for prison swap</span>\n",
       " </h3>\n",
       " </a>\n",
       " <div class=\"pigeon-item__info-list\">\n",
       " <ul class=\"mini-info-list\">\n",
       " <li class=\"mini-info-list__item\"><div class=\"date date--v2\" data-datetime=\"19 April 2016\" data-seconds=\"1461086194\">19 April 2016</div></li>\n",
       " <li class=\"mini-info-list__item\"><span class=\"mini-info-list__section-desc off-screen\">From the section </span><a class=\"mini-info-list__section\" data-entityid=\"section-label\" href=\"/news/world/europe\">Europe</a></li>\n",
       " </ul>\n",
       " </div>\n",
       " <a aria-hidden=\"true\" class=\"faux-block-link__overlay-link\" href=\"/news/world-europe-36083936\" tabindex=\"-1\">Full article Putin 'agreed formula' for prison swap</a>\n",
       " </div>,\n",
       " 'container-top-stories#7': <div class=\"macaw-item faux-block-link\" data-entityid=\"container-top-stories#7\">\n",
       " <div class=\"macaw-item__body\">\n",
       " <a class=\"title-link\" href=\"/news/uk-36070721\">\n",
       " <h3 class=\"title-link__title\">\n",
       " <span class=\"title-link__title-text\">Palmyra's arch recreated in London</span>\n",
       " </h3>\n",
       " </a> <ul class=\"mini-info-list\">\n",
       " <li class=\"mini-info-list__item\"><div class=\"date date--v2\" data-datetime=\"19 April 2016\" data-seconds=\"1461083645\">19 April 2016</div></li>\n",
       " <li class=\"mini-info-list__item\"><span class=\"mini-info-list__section-desc off-screen\">From the section </span><a class=\"mini-info-list__section\" data-entityid=\"section-label\" href=\"/news/uk\">UK</a></li>\n",
       " </ul>\n",
       " </div>\n",
       " <a aria-hidden=\"true\" class=\"faux-block-link__overlay-link\" href=\"/news/uk-36070721\" tabindex=\"-1\">Full article Palmyra's arch recreated in London</a>\n",
       " </div>,\n",
       " 'container-top-stories#8': <div class=\"macaw-item faux-block-link\" data-entityid=\"container-top-stories#8\">\n",
       " <div class=\"macaw-item__body\">\n",
       " <a class=\"title-link\" href=\"/news/health-36043882\">\n",
       " <h3 class=\"title-link__title\">\n",
       " <span class=\"title-link__title-text\">Pair of drugs 'destroy 20% of melanomas'</span>\n",
       " </h3>\n",
       " </a> <ul class=\"mini-info-list\">\n",
       " <li class=\"mini-info-list__item\"><div class=\"date date--v2\" data-datetime=\"19 April 2016\" data-seconds=\"1461079286\">19 April 2016</div></li>\n",
       " <li class=\"mini-info-list__item\"><span class=\"mini-info-list__section-desc off-screen\">From the section </span><a class=\"mini-info-list__section\" data-entityid=\"section-label\" href=\"/news/health\">Health</a></li>\n",
       " </ul>\n",
       " </div>\n",
       " <a aria-hidden=\"true\" class=\"faux-block-link__overlay-link\" href=\"/news/health-36043882\" tabindex=\"-1\">Full article Pair of drugs 'destroy 20% of melanomas'</a>\n",
       " </div>,\n",
       " 'container-top-stories#9': <div class=\"macaw-item faux-block-link\" data-entityid=\"container-top-stories#9\">\n",
       " <div class=\"macaw-item__body\">\n",
       " <a class=\"title-link\" href=\"/news/world-europe-36079533\">\n",
       " <h3 class=\"title-link__title\">\n",
       " <span class=\"title-link__title-text\">German far-right leader in race trial</span>\n",
       " </h3>\n",
       " </a> <ul class=\"mini-info-list\">\n",
       " <li class=\"mini-info-list__item\"><div class=\"date date--v2\" data-datetime=\"19 April 2016\" data-seconds=\"1461066390\">19 April 2016</div></li>\n",
       " <li class=\"mini-info-list__item\"><span class=\"mini-info-list__section-desc off-screen\">From the section </span><a class=\"mini-info-list__section\" data-entityid=\"section-label\" href=\"/news/world/europe\">Europe</a></li>\n",
       " </ul>\n",
       " </div>\n",
       " <a aria-hidden=\"true\" class=\"faux-block-link__overlay-link\" href=\"/news/world-europe-36079533\" tabindex=\"-1\">Full article German far-right leader in race trial</a>\n",
       " </div>}"
      ]
     },
     "execution_count": 7,
     "metadata": {},
     "output_type": "execute_result"
    }
   ],
   "source": [
    "headline_dict"
   ]
  },
  {
   "cell_type": "markdown",
   "metadata": {
    "collapsed": false
   },
   "source": [
    "We now have a dictionary full of the top stories, and the text associated with them.\n",
    "The plan:\n",
    "- Collect the actual text of the headline.\n",
    "- Find the country(ies) associated with it. - TO COMPLETE"
   ]
  },
  {
   "cell_type": "code",
   "execution_count": 14,
   "metadata": {
    "collapsed": false
   },
   "outputs": [
    {
     "data": {
      "text/plain": [
       "[<span class=\"title-link__title-text\">London to ban drones during Obama visit</span>,\n",
       " <span class=\"title-link__title-text\">Handshake family naturalisation halted</span>,\n",
       " <span class=\"title-link__title-text\">Champion Swiss snowboarder killed at 21</span>,\n",
       " <span class=\"badge-text-only badge-text-only--sport\">Sport</span>,\n",
       " <span class=\"title-link__title-text\">Israeli guilty of murdering Palestinian</span>,\n",
       " <span class=\"title-link__title-text\">Palmyra's arch recreated in London</span>,\n",
       " <span class=\"title-link__title-text\">Putin 'agreed formula' for prison swap</span>,\n",
       " <span class=\"title-link__title-text\">Kabul hit by large suicide attack</span>,\n",
       " <span class=\"title-link__title-text\">Egypt tea vendor 'shot by police'</span>,\n",
       " <span class=\"title-link__title-text\">New York vote key for Clinton and Trump</span>,\n",
       " <span class=\"title-link__title-text\">German far-right leader in race trial</span>,\n",
       " <span class=\"title-link__title-text\">Pair of drugs 'destroy 20% of melanomas'</span>]"
      ]
     },
     "execution_count": 14,
     "metadata": {},
     "output_type": "execute_result"
    }
   ],
   "source": [
    "headlines = []\n",
    "for key in headline_dict:\n",
    "    headlines.append(headline_dict[key].findAll(name = 'span')[0])\n",
    "\n",
    "headlines"
   ]
  },
  {
   "cell_type": "code",
   "execution_count": 16,
   "metadata": {
    "collapsed": false
   },
   "outputs": [
    {
     "data": {
      "text/plain": [
       "[u'London to ban drones during Obama visit',\n",
       " u'Handshake family naturalisation halted',\n",
       " u'Champion Swiss snowboarder killed at 21',\n",
       " u'Sport',\n",
       " u'Israeli guilty of murdering Palestinian',\n",
       " u\"Palmyra's arch recreated in London\",\n",
       " u\"Putin 'agreed formula' for prison swap\",\n",
       " u'Kabul hit by large suicide attack',\n",
       " u\"Egypt tea vendor 'shot by police'\",\n",
       " u'New York vote key for Clinton and Trump',\n",
       " u'German far-right leader in race trial',\n",
       " u\"Pair of drugs 'destroy 20% of melanomas'\"]"
      ]
     },
     "execution_count": 16,
     "metadata": {},
     "output_type": "execute_result"
    }
   ],
   "source": [
    "headlines_text = []\n",
    "for headline in headlines:\n",
    "    for ch in headline.children:\n",
    "        headlines_text.append(ch)\n",
    "    \n",
    "headlines_text"
   ]
  },
  {
   "cell_type": "markdown",
   "metadata": {
    "collapsed": false
   },
   "source": [
    "Not 100% sure where all these 'u's come from, but hey, it seems to have worked."
   ]
  },
  {
   "cell_type": "markdown",
   "metadata": {},
   "source": [
    "# Crawly crawl "
   ]
  },
  {
   "cell_type": "code",
   "execution_count": null,
   "metadata": {
    "collapsed": true
   },
   "outputs": [],
   "source": [
    "def scrape_headlines(bbc_urls, file_prefix):\n",
    "    "
   ]
  }
 ],
 "metadata": {
  "kernelspec": {
   "display_name": "Python 2",
   "language": "python",
   "name": "python2"
  },
  "language_info": {
   "codemirror_mode": {
    "name": "ipython",
    "version": 2
   },
   "file_extension": ".py",
   "mimetype": "text/x-python",
   "name": "python",
   "nbconvert_exporter": "python",
   "pygments_lexer": "ipython2",
   "version": "2.7.6"
  }
 },
 "nbformat": 4,
 "nbformat_minor": 0
}
