{
 "cells": [
  {
   "cell_type": "code",
   "execution_count": 4,
   "metadata": {
    "collapsed": true
   },
   "outputs": [],
   "source": [
    "# Load in data and clean corpus"
   ]
  },
  {
   "cell_type": "code",
   "execution_count": 2,
   "metadata": {
    "collapsed": false
   },
   "outputs": [
    {
     "name": "stdout",
     "output_type": "stream",
     "text": [
      "0\n",
      "1\n"
     ]
    }
   ],
   "source": [
    "# Right. Let's get started.\n",
    "# Determine initial allocation\n",
    "import numpy as np\n",
    "from collections import Counter\n",
    "\n",
    "# Set aspects of the corpus: D is n.doc, N is n.words, k is n.topics, V is len.vocabulary\n",
    "D = 2\n",
    "k = 4\n",
    "vocabulary = ['rabbit', 'horse', 'unicorn']\n",
    "V = len(vocabulary)\n",
    "N = 5\n",
    "\n",
    "# Set the hyperparameters\n",
    "alpha = np.array([1] * k)\n",
    "eta = [1] * V\n",
    "\n",
    "# Initialise the document-specific mixing probabilities, D x k\n",
    "theta = np.array([])\n",
    "for doc in range(D):\n",
    "    theta = np.append(theta, np.random.dirichlet(alpha))\n",
    "theta = np.reshape(theta, (D, k))\n",
    "\n",
    "# Initialise the topic allocations, D x k - that is, in document d topic k occured this many times\n",
    "z = np.array([])\n",
    "for doc in range(D):\n",
    "    print doc\n",
    "    z = np.append(z, np.random.multinomial(N, pvals = theta[doc], size = 1))\n",
    "    \n",
    "z = np.reshape(z, (D, k))\n",
    "\n",
    "# Initialise the topic-specific term probabilities\n",
    "beta = np.array([])\n",
    "for topic in range(k):\n",
    "    beta = np.append(beta, np.random.dirichlet(eta))\n",
    "beta = np.reshape(beta, (k, V))\n",
    "\n"
   ]
  },
  {
   "cell_type": "code",
   "execution_count": 5,
   "metadata": {
    "collapsed": false
   },
   "outputs": [
    {
     "name": "stderr",
     "output_type": "stream",
     "text": [
      "/usr/local/lib/python2.7/dist-packages/ipykernel/__main__.py:10: DeprecationWarning: using a non-integer number instead of an integer will result in an error in the future\n"
     ]
    },
    {
     "name": "stdout",
     "output_type": "stream",
     "text": [
      "[array([[ 4.,  0.,  1.,  0.],\n",
      "       [ 3.,  1.,  1.,  0.]]), array([[ 0.35357296,  0.15231498,  0.49411206],\n",
      "       [ 0.46089852,  0.03173121,  0.50737027],\n",
      "       [ 0.21736682,  0.35429759,  0.42833558],\n",
      "       [ 0.81589721,  0.13104624,  0.05305656]]), array([[ 0.2891717 ,  0.21613243,  0.12219465,  0.37250122],\n",
      "       [ 0.33792542,  0.47532457,  0.04740536,  0.13934465]]), array([['horse', 'unicorn', 'horse', 'horse', 'unicorn'],\n",
      "       ['unicorn', 'horse', 'unicorn', 'horse', 'horse']], \n",
      "      dtype='|S7')]\n"
     ]
    }
   ],
   "source": [
    "# Start iterating\n",
    "it = 1\n",
    "total_results = []\n",
    "while it < 1100:\n",
    "    # Draw the word allocations\n",
    "    w = np.array([])\n",
    "    # Draw the word allocations\n",
    "    for doc in range(D):\n",
    "        for zk in range(len(z[doc])):\n",
    "            w = np.append(w, np.random.choice(vocabulary, p = beta[zk], size = z[doc, zk]))\n",
    "    w = np.reshape(w, (D, N))\n",
    "    \n",
    "    # Draw the new theta values\n",
    "    alpha_new = z + alpha\n",
    "    theta = np.array([])\n",
    "    for doc in range(D):\n",
    "        theta = np.append(theta, np.random.dirichlet(alpha_new[doc]))\n",
    "    theta = np.reshape(theta, (D, k))\n",
    "       \n",
    "    # Draw the new beta values\n",
    "    # Find the ms\n",
    "    count_vocab = dict(zip(vocabulary, [0] * V)) \n",
    "    count_terms = Counter(w[0])\n",
    "    for key in count_vocab:\n",
    "        count_vocab[key] += count_terms[key]\n",
    "    m = np.array(count_vocab.values())\n",
    "    eta_new = m + eta\n",
    "    # Find the betas\n",
    "    beta = np.array([])\n",
    "    for topic in range(k):\n",
    "        beta = np.append(beta, np.random.dirichlet(eta_new))\n",
    "    beta = np.reshape(beta, (k, V))\n",
    "    \n",
    "    # Draw the new zs\n",
    "    z_new = np.array([])\n",
    "    for doc in range(D):\n",
    "        # Our first task is to find the document-specific mixing probabilities\n",
    "        beta_theta2 = np.matrix(beta)\n",
    "        beta_theta2 = np.transpose(beta_theta2)\n",
    "        denominators = sum(beta_theta2)\n",
    "        # First we find a N x k matrix of beta[k,n] *theta[d,k] \n",
    "        beta_theta = np.array([])\n",
    "        denominator = [0] * V\n",
    "        for row in range(len(beta)):\n",
    "            be = beta[row] * theta[doc, row]\n",
    "            denominator += be\n",
    "            beta_theta = np.append(beta_theta, be)\n",
    "\n",
    "        # We get this into a kxN matrix, because reasons\n",
    "        beta_theta = np.reshape(beta_theta, (k, V))\n",
    "        beta_theta = np.matrix(beta_theta)\n",
    "        beta_theta = np.transpose(beta_theta)\n",
    "\n",
    "        # And then we simulate the z values\n",
    "        z_thisdoc = np.array([0] * k)\n",
    "        for word in range(len(w[doc])):\n",
    "            which_vocab = vocabulary.index(w[doc,word])\n",
    "            this_mix = beta_theta[which_vocab] / denominator[which_vocab]\n",
    "            z_thisdoc = z_thisdoc + np.random.multinomial(1, pvals = this_mix.getA1())\n",
    "        z_new = np.append(z_new, z_thisdoc)\n",
    "    z_new = np.reshape(z_new, (D, k))\n",
    "    z = z_new.copy()\n",
    "    \n",
    "    # Every 50th iteration, we take a sample\n",
    "    if it > 1000 & it % 50 == 0:\n",
    "        results = []\n",
    "        results.append(z)\n",
    "        results.append(beta)\n",
    "        results.append(theta)\n",
    "        results.append(w)\n",
    "        total_results.append(results)\n",
    "    \n",
    "    it += 1\n",
    "\n",
    "print total_results[0]"
   ]
  }
 ],
 "metadata": {
  "kernelspec": {
   "display_name": "Python 2",
   "language": "python",
   "name": "python2"
  },
  "language_info": {
   "codemirror_mode": {
    "name": "ipython",
    "version": 2
   },
   "file_extension": ".py",
   "mimetype": "text/x-python",
   "name": "python",
   "nbconvert_exporter": "python",
   "pygments_lexer": "ipython2",
   "version": "2.7.6"
  }
 },
 "nbformat": 4,
 "nbformat_minor": 0
}
